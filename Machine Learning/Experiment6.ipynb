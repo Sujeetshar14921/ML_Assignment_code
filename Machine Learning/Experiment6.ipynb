{
 "cells": [
  {
   "cell_type": "markdown",
   "id": "381efb39",
   "metadata": {},
   "source": [
    "# MACHINE LEARNING LAB - 1 ( Implement feature selection algorithm. )"
   ]
  },
  {
   "cell_type": "code",
   "execution_count": 6,
   "id": "71fc2565",
   "metadata": {},
   "outputs": [],
   "source": [
    "# Import necessary libraries\n",
    "from sklearn.datasets import load_iris\n",
    "from sklearn.feature_selection import VarianceThreshold, SelectKBest, f_classif, RFE\n",
    "from sklearn.ensemble import RandomForestClassifier\n",
    "from sklearn.model_selection import train_test_split"
   ]
  },
  {
   "cell_type": "code",
   "execution_count": 7,
   "id": "25511e60",
   "metadata": {},
   "outputs": [],
   "source": [
    "# Load a sample dataset\n",
    "data = load_iris()\n",
    "X, y = data.data, data.target\n",
    "\n",
    "# Split the dataset into training and testing sets\n",
    "X_train, X_test, y_train, y_test = train_test_split(X, y, test_size=0.3, random_state=42)"
   ]
  },
  {
   "cell_type": "code",
   "execution_count": 8,
   "id": "45a6126a",
   "metadata": {},
   "outputs": [
    {
     "name": "stdout",
     "output_type": "stream",
     "text": [
      "Feature Selection using Variance Threshold:\n",
      "Selected Features by Variance Threshold: [0 2 3]\n"
     ]
    }
   ],
   "source": [
    "# 1. Feature Selection using Variance Threshold\n",
    "print(\"Feature Selection using Variance Threshold:\")\n",
    "threshold = 0.2  # Define a threshold for variance\n",
    "selector = VarianceThreshold(threshold=threshold)\n",
    "X_train_var = selector.fit_transform(X_train)\n",
    "print(\"Selected Features by Variance Threshold:\", selector.get_support(indices=True))"
   ]
  },
  {
   "cell_type": "code",
   "execution_count": 9,
   "id": "76da9410",
   "metadata": {},
   "outputs": [
    {
     "name": "stdout",
     "output_type": "stream",
     "text": [
      "\n",
      "Feature Selection using Recursive Feature Elimination (RFE):\n",
      "Selected Features by RFE: [2 3]\n"
     ]
    }
   ],
   "source": [
    "\n",
    "# 3. Feature Selection using Recursive Feature Elimination (RFE)\n",
    "print(\"\\nFeature Selection using Recursive Feature Elimination (RFE):\")\n",
    "model = RandomForestClassifier()\n",
    "n_features_to_select = 2  # Number of features to select\n",
    "selector_rfe = RFE(estimator=model, n_features_to_select=n_features_to_select, step=1)\n",
    "X_train_rfe = selector_rfe.fit_transform(X_train, y_train)\n",
    "print(\"Selected Features by RFE:\", selector_rfe.get_support(indices=True))"
   ]
  },
  {
   "cell_type": "code",
   "execution_count": 10,
   "id": "bb312344",
   "metadata": {},
   "outputs": [
    {
     "name": "stdout",
     "output_type": "stream",
     "text": [
      "\n",
      "Model trained on selected features by RFE with accuracy on test set:\n",
      "1.0\n"
     ]
    }
   ],
   "source": [
    "# Now you can use the selected features for training the final model\n",
    "model.fit(X_train_rfe, y_train)\n",
    "print(\"\\nModel trained on selected features by RFE with accuracy on test set:\")\n",
    "X_test_rfe = selector_rfe.transform(X_test)  # Transform the test set based on RFE selection\n",
    "print(model.score(X_test_rfe, y_test))"
   ]
  }
 ],
 "metadata": {
  "kernelspec": {
   "display_name": "Python 3",
   "language": "python",
   "name": "python3"
  },
  "language_info": {
   "codemirror_mode": {
    "name": "ipython",
    "version": 3
   },
   "file_extension": ".py",
   "mimetype": "text/x-python",
   "name": "python",
   "nbconvert_exporter": "python",
   "pygments_lexer": "ipython3",
   "version": "3.10.9"
  }
 },
 "nbformat": 4,
 "nbformat_minor": 5
}
